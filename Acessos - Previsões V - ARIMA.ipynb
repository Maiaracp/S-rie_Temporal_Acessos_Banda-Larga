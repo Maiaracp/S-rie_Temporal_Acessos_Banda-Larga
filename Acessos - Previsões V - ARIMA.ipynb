{
 "cells": [
  {
   "cell_type": "markdown",
   "id": "b61a2c0d",
   "metadata": {},
   "source": [
    "## Importando as bibliotecas"
   ]
  },
  {
   "cell_type": "code",
   "execution_count": 3,
   "id": "d9775074",
   "metadata": {},
   "outputs": [
    {
     "name": "stdout",
     "output_type": "stream",
     "text": [
      "Collecting xgboost\n",
      "  Downloading xgboost-1.6.2-py3-none-win_amd64.whl (125.4 MB)\n",
      "Requirement already satisfied: numpy in c:\\programdata\\anaconda3\\lib\\site-packages (from xgboost) (1.21.5)\n",
      "Requirement already satisfied: scipy in c:\\programdata\\anaconda3\\lib\\site-packages (from xgboost) (1.7.3)\n",
      "Installing collected packages: xgboost\n",
      "Successfully installed xgboost-1.6.2\n"
     ]
    }
   ],
   "source": [
    "import pandas as pd\n",
    "import numpy as np\n",
    "import matplotlib.pyplot as plt\n",
    "from matplotlib import rcParams\n",
    "from cycler import cycler\n",
    "import seaborn as sns\n",
    "import itertools  #loops e interações\n",
    "import statsmodels.api as sm  #modelo estatístico\n",
    "from datetime import datetime\n",
    "from statsmodels.graphics.tsaplots import month_plot, quarter_plot  #tsa - time series analysis\n",
    "from statsmodels.tsa.seasonal import seasonal_decompose \n",
    "from pandas.plotting import autocorrelation_plot\n",
    "from statsmodels.tsa.stattools import acf, pacf  #calcular função de autocorrelação \n",
    "from statsmodels.graphics.tsaplots import plot_acf,plot_pacf #gerar gráfico da função de autocorrelação e autocorr. parcial\n",
    "from statsmodels.tsa.stattools import adfuller\n",
    "from statsmodels.tsa.statespace.tools import diff  #diff - diferenciação da série\n",
    "from statsmodels.tsa.arima.model import ARIMA #Incluido por mim para tentar solucuonar o erro na célula 46\n",
    "#from statsmodels.tsa.arima_model import ARIMA  #calculo do modelo ARIMA\n",
    "#from statsmodels.tsa.arima_model import ARMA  #calculo do modelo ARMA\n",
    "from statsmodels.tsa.arima_process import ArmaProcess\n",
    "from statsmodels.graphics.gofplots import qqplot\n",
    "from statsmodels.stats.stattools import jarque_bera\n",
    "import scipy.stats as sct\n",
    "from statsmodels.tools.eval_measures import rmse\n",
    "from sklearn.metrics import mean_absolute_error  #métrica erro médio absoluto\n",
    "from sklearn.metrics import mean_squared_error  #métrica erro médio quadrático\n",
    "from sklearn import metrics\n",
    "from sklearn.metrics import mean_absolute_percentage_error\n",
    "from pmdarima import auto_arima  #autoarima para fazer a busca automática dos parâmetros do modelo\n",
    "from pmdarima.arima import ADFTest  #test Dick Fuller para avaliar a estacionariedade da série\n",
    "from statsmodels.tsa.statespace.sarimax import SARIMAX #cáculo de modelo sazonal e com variáveis exógenas\n",
    "from xgboost import XGBRegressor\n",
    "from math import sqrt\n",
    "import warnings\n",
    "warnings.filterwarnings(\"ignore\")"
   ]
  },
  {
   "cell_type": "markdown",
   "id": "8be752e3",
   "metadata": {},
   "source": [
    "### Importando a base de Acessos e colocando o campo 'Data' como o index"
   ]
  },
  {
   "cell_type": "code",
   "execution_count": 4,
   "id": "9aacc063",
   "metadata": {},
   "outputs": [
    {
     "data": {
      "text/html": [
       "<div>\n",
       "<style scoped>\n",
       "    .dataframe tbody tr th:only-of-type {\n",
       "        vertical-align: middle;\n",
       "    }\n",
       "\n",
       "    .dataframe tbody tr th {\n",
       "        vertical-align: top;\n",
       "    }\n",
       "\n",
       "    .dataframe thead th {\n",
       "        text-align: right;\n",
       "    }\n",
       "</style>\n",
       "<table border=\"1\" class=\"dataframe\">\n",
       "  <thead>\n",
       "    <tr style=\"text-align: right;\">\n",
       "      <th></th>\n",
       "      <th>Acessos</th>\n",
       "    </tr>\n",
       "    <tr>\n",
       "      <th>Data</th>\n",
       "      <th></th>\n",
       "    </tr>\n",
       "  </thead>\n",
       "  <tbody>\n",
       "    <tr>\n",
       "      <th>2011-01-01</th>\n",
       "      <td>14508818</td>\n",
       "    </tr>\n",
       "    <tr>\n",
       "      <th>2011-02-01</th>\n",
       "      <td>14764348</td>\n",
       "    </tr>\n",
       "    <tr>\n",
       "      <th>2011-03-01</th>\n",
       "      <td>15058564</td>\n",
       "    </tr>\n",
       "    <tr>\n",
       "      <th>2011-04-01</th>\n",
       "      <td>15260984</td>\n",
       "    </tr>\n",
       "    <tr>\n",
       "      <th>2011-05-01</th>\n",
       "      <td>15486330</td>\n",
       "    </tr>\n",
       "  </tbody>\n",
       "</table>\n",
       "</div>"
      ],
      "text/plain": [
       "             Acessos\n",
       "Data                \n",
       "2011-01-01  14508818\n",
       "2011-02-01  14764348\n",
       "2011-03-01  15058564\n",
       "2011-04-01  15260984\n",
       "2011-05-01  15486330"
      ]
     },
     "execution_count": 4,
     "metadata": {},
     "output_type": "execute_result"
    }
   ],
   "source": [
    "df = pd.read_csv('Acessos_Banda_Larga_Fixa_Total_2011_2022.csv',index_col='Data',parse_dates=True)\n",
    "df.index.freq = 'MS'\n",
    "df.head(5)"
   ]
  },
  {
   "cell_type": "code",
   "execution_count": 5,
   "id": "b8f568a5",
   "metadata": {},
   "outputs": [
    {
     "data": {
      "text/plain": [
       "(139, 1)"
      ]
     },
     "execution_count": 5,
     "metadata": {},
     "output_type": "execute_result"
    }
   ],
   "source": [
    "df.shape"
   ]
  },
  {
   "cell_type": "code",
   "execution_count": 7,
   "id": "cf9f090d",
   "metadata": {},
   "outputs": [
    {
     "data": {
      "image/png": "[encoded data removed]",
      "text/plain": [
       "<Figure size 432x288 with 1 Axes>"
      ]
     },
     "metadata": {
      "needs_background": "light"
     },
     "output_type": "display_data"
    }
   ],
   "source": [
    "#Visualização dos dados\n",
    "plt.title('Acessos Banda Larga Fixa', size=20)\n",
    "plt.plot(df);"
   ]
  },
  {
   "cell_type": "code",
   "execution_count": 8,
   "id": "4b5b4223",
   "metadata": {},
   "outputs": [
    {
     "data": {
      "image/png": "[encoded data removed]",
      "text/plain": [
       "<Figure size 432x288 with 1 Axes>"
      ]
     },
     "metadata": {
      "needs_background": "light"
     },
     "output_type": "display_data"
    }
   ],
   "source": [
    "# Comportamento da diferenciação da série\n",
    "\n",
    "df['Acessos_Diff'] = df['Acessos'].diff(periods=1)\n",
    "df = df.dropna()\n",
    "\n",
    "# Plot\n",
    "plt.title('Base Acessos com Diferenciação de Primeira ordem', size=20)\n",
    "plt.plot(df['Acessos'], label='Acessos')\n",
    "plt.plot(df['Acessos_Diff'], label='First-order difference', color='orange')\n",
    "plt.legend();"
   ]
  },
  {
   "cell_type": "code",
   "execution_count": 9,
   "id": "3603741c",
   "metadata": {},
   "outputs": [
    {
     "data": {
      "text/plain": [
       "(0.8019904123215388,\n",
       " 0.9916682291661889,\n",
       " 3,\n",
       " 134,\n",
       " {'1%': -3.480118600110386,\n",
       "  '5%': -2.8833618426136196,\n",
       "  '10%': -2.578407034974382},\n",
       " 3327.211004451594)"
      ]
     },
     "execution_count": 9,
     "metadata": {},
     "output_type": "execute_result"
    }
   ],
   "source": [
    "#Teste de estacionariedade série original\n",
    "# p valor = 0.99 --> indica que a série é não estacionária\n",
    "adfuller(df[\"Acessos\"])"
   ]
  },
  {
   "cell_type": "code",
   "execution_count": 10,
   "id": "5641691a",
   "metadata": {},
   "outputs": [
    {
     "data": {
      "text/plain": [
       "(-2.9720057964376085,\n",
       " 0.03759270457919257,\n",
       " 14,\n",
       " 123,\n",
       " {'1%': -3.4846672514209773,\n",
       "  '5%': -2.8853397507076006,\n",
       "  '10%': -2.5794629869786503},\n",
       " 3324.4816636309783)"
      ]
     },
     "execution_count": 10,
     "metadata": {},
     "output_type": "execute_result"
    }
   ],
   "source": [
    "#Teste de estacionariedade série diferenciada\n",
    "adfuller(df[\"Acessos_Diff\"])"
   ]
  },
  {
   "cell_type": "code",
   "execution_count": 11,
   "id": "238972be",
   "metadata": {},
   "outputs": [
    {
     "data": {
      "text/plain": [
       "array([ 1.  ,  0.08,  0.19,  0.32,  0.17,  0.11,  0.13,  0.14,  0.15,\n",
       "        0.06,  0.09,  0.22, -0.03,  0.15, -0.02, -0.02, -0.03, -0.06,\n",
       "       -0.05, -0.02, -0.14, -0.03])"
      ]
     },
     "execution_count": 11,
     "metadata": {},
     "output_type": "execute_result"
    }
   ],
   "source": [
    "#Cálculo da autocorrelação\n",
    "acf_values = acf(df['Acessos_Diff'])\n",
    "np.round(acf_values,2)"
   ]
  },
  {
   "cell_type": "code",
   "execution_count": 12,
   "id": "76a18d2a",
   "metadata": {},
   "outputs": [
    {
     "data": {
      "image/png": "[encoded data removed]",
      "text/plain": [
       "<Figure size 432x288 with 1 Axes>"
      ]
     },
     "metadata": {
      "needs_background": "light"
     },
     "output_type": "display_data"
    }
   ],
   "source": [
    "#Gráfico da autocorrelação\n",
    "plot_acf(df['Acessos_Diff'], lags=30);"
   ]
  },
  {
   "cell_type": "code",
   "execution_count": 13,
   "id": "ca9e283a",
   "metadata": {},
   "outputs": [
    {
     "data": {
      "text/plain": [
       "array([ 1.  ,  0.08,  0.19,  0.31,  0.14,  0.  , -0.02,  0.04,  0.11,\n",
       "       -0.01, -0.01,  0.16, -0.1 ,  0.07, -0.17, -0.09, -0.11, -0.06,\n",
       "       -0.03,  0.02, -0.12, -0.02])"
      ]
     },
     "execution_count": 13,
     "metadata": {},
     "output_type": "execute_result"
    }
   ],
   "source": [
    "#Cálculo da autocorrelação parcial\n",
    "pacf_values = pacf(df['Acessos_Diff'])\n",
    "np.round(pacf_values,2)"
   ]
  },
  {
   "cell_type": "code",
   "execution_count": 14,
   "id": "5f482a3d",
   "metadata": {},
   "outputs": [
    {
     "data": {
      "image/png": "[encoded data removed]",
      "text/plain": [
       "<Figure size 432x288 with 1 Axes>"
      ]
     },
     "metadata": {
      "needs_background": "light"
     },
     "output_type": "display_data"
    }
   ],
   "source": [
    "#Gráfico da autocorrelação parcial\n",
    "plot_pacf(df['Acessos_Diff'], lags=30);"
   ]
  },
  {
   "cell_type": "code",
   "execution_count": 15,
   "id": "6883a337",
   "metadata": {},
   "outputs": [
    {
     "data": {
      "image/png": "[encoded data removed]",
      "text/plain": [
       "<Figure size 432x288 with 4 Axes>"
      ]
     },
     "metadata": {
      "needs_background": "light"
     },
     "output_type": "display_data"
    }
   ],
   "source": [
    "#Decomposição sazonal para ver os componentes\n",
    "result = seasonal_decompose(df['Acessos'], \n",
    "                            model ='additive')\n",
    "result.plot();"
   ]
  },
  {
   "cell_type": "code",
   "execution_count": 16,
   "id": "dfd5dbb8",
   "metadata": {},
   "outputs": [
    {
     "name": "stdout",
     "output_type": "stream",
     "text": [
      "Performing stepwise search to minimize aic\n",
      " ARIMA(1,1,1)(0,1,1)[12]             : AIC=3464.098, Time=0.71 sec\n",
      " ARIMA(0,1,0)(0,1,0)[12]             : AIC=3460.292, Time=0.03 sec\n",
      " ARIMA(1,1,0)(1,1,0)[12]             : AIC=3462.496, Time=0.19 sec\n",
      " ARIMA(0,1,1)(0,1,1)[12]             : AIC=3462.491, Time=0.23 sec\n",
      " ARIMA(0,1,0)(1,1,0)[12]             : AIC=3464.229, Time=0.24 sec\n",
      " ARIMA(0,1,0)(0,1,1)[12]             : AIC=3464.336, Time=0.17 sec\n",
      " ARIMA(0,1,0)(1,1,1)[12]             : AIC=3463.081, Time=0.18 sec\n",
      " ARIMA(1,1,0)(0,1,0)[12]             : AIC=3461.629, Time=0.05 sec\n",
      " ARIMA(0,1,1)(0,1,0)[12]             : AIC=3461.641, Time=0.07 sec\n",
      " ARIMA(1,1,1)(0,1,0)[12]             : AIC=3463.597, Time=0.08 sec\n",
      " ARIMA(0,1,0)(0,1,0)[12] intercept   : AIC=3461.659, Time=0.04 sec\n",
      "\n",
      "Best model:  ARIMA(0,1,0)(0,1,0)[12]          \n",
      "Total fit time: 2.003 seconds\n"
     ]
    },
    {
     "data": {
      "text/html": [
       "<table class=\"simpletable\">\n",
       "<caption>SARIMAX Results</caption>\n",
       "<tr>\n",
       "  <th>Dep. Variable:</th>                  <td>y</td>               <th>  No. Observations:  </th>    <td>138</td>   \n",
       "</tr>\n",
       "<tr>\n",
       "  <th>Model:</th>           <td>SARIMAX(0, 1, 0)x(0, 1, 0, 12)</td> <th>  Log Likelihood     </th> <td>-1729.146</td>\n",
       "</tr>\n",
       "<tr>\n",
       "  <th>Date:</th>                   <td>Wed, 28 Sep 2022</td>        <th>  AIC                </th> <td>3460.292</td> \n",
       "</tr>\n",
       "<tr>\n",
       "  <th>Time:</th>                       <td>10:53:56</td>            <th>  BIC                </th> <td>3463.120</td> \n",
       "</tr>\n",
       "<tr>\n",
       "  <th>Sample:</th>                    <td>02-01-2011</td>           <th>  HQIC               </th> <td>3461.441</td> \n",
       "</tr>\n",
       "<tr>\n",
       "  <th></th>                          <td>- 07-01-2022</td>          <th>                     </th>     <td> </td>    \n",
       "</tr>\n",
       "<tr>\n",
       "  <th>Covariance Type:</th>               <td>opg</td>              <th>                     </th>     <td> </td>    \n",
       "</tr>\n",
       "</table>\n",
       "<table class=\"simpletable\">\n",
       "<tr>\n",
       "     <td></td>       <th>coef</th>     <th>std err</th>      <th>z</th>      <th>P>|z|</th>  <th>[0.025</th>    <th>0.975]</th>  \n",
       "</tr>\n",
       "<tr>\n",
       "  <th>sigma2</th> <td> 5.466e+10</td> <td> 2.81e+09</td> <td>   19.423</td> <td> 0.000</td> <td> 4.91e+10</td> <td> 6.02e+10</td>\n",
       "</tr>\n",
       "</table>\n",
       "<table class=\"simpletable\">\n",
       "<tr>\n",
       "  <th>Ljung-Box (L1) (Q):</th>     <td>0.78</td>  <th>  Jarque-Bera (JB):  </th> <td>346.13</td>\n",
       "</tr>\n",
       "<tr>\n",
       "  <th>Prob(Q):</th>                <td>0.38</td>  <th>  Prob(JB):          </th>  <td>0.00</td> \n",
       "</tr>\n",
       "<tr>\n",
       "  <th>Heteroskedasticity (H):</th> <td>17.89</td> <th>  Skew:              </th>  <td>-0.99</td>\n",
       "</tr>\n",
       "<tr>\n",
       "  <th>Prob(H) (two-sided):</th>    <td>0.00</td>  <th>  Kurtosis:          </th>  <td>10.91</td>\n",
       "</tr>\n",
       "</table><br/><br/>Warnings:<br/>[1] Covariance matrix calculated using the outer product of gradients (complex-step)."
      ],
      "text/plain": [
       "<class 'statsmodels.iolib.summary.Summary'>\n",
       "\"\"\"\n",
       "                                     SARIMAX Results                                      \n",
       "==========================================================================================\n",
       "Dep. Variable:                                  y   No. Observations:                  138\n",
       "Model:             SARIMAX(0, 1, 0)x(0, 1, 0, 12)   Log Likelihood               -1729.146\n",
       "Date:                            Wed, 28 Sep 2022   AIC                           3460.292\n",
       "Time:                                    10:53:56   BIC                           3463.120\n",
       "Sample:                                02-01-2011   HQIC                          3461.441\n",
       "                                     - 07-01-2022                                         \n",
       "Covariance Type:                              opg                                         \n",
       "==============================================================================\n",
       "                 coef    std err          z      P>|z|      [0.025      0.975]\n",
       "------------------------------------------------------------------------------\n",
       "sigma2      5.466e+10   2.81e+09     19.423      0.000    4.91e+10    6.02e+10\n",
       "===================================================================================\n",
       "Ljung-Box (L1) (Q):                   0.78   Jarque-Bera (JB):               346.13\n",
       "Prob(Q):                              0.38   Prob(JB):                         0.00\n",
       "Heteroskedasticity (H):              17.89   Skew:                            -0.99\n",
       "Prob(H) (two-sided):                  0.00   Kurtosis:                        10.91\n",
       "===================================================================================\n",
       "\n",
       "Warnings:\n",
       "[1] Covariance matrix calculated using the outer product of gradients (complex-step).\n",
       "\"\"\""
      ]
     },
     "execution_count": 16,
     "metadata": {},
     "output_type": "execute_result"
    }
   ],
   "source": [
    "#Ajustar auto arima para a base\n",
    "stepwise_fit = auto_arima(df['Acessos'], start_p = 1, start_q = 1,\n",
    "                          max_p = 3, max_q = 3, m = 12,\n",
    "                          start_P = 0, seasonal = True,\n",
    "                          d = None, D = 1, trace = True,\n",
    "                          error_action ='ignore',   # we don't want to know if an order does not work\n",
    "                          suppress_warnings = True,  # we don't want convergence warnings\n",
    "                          stepwise = True)           # set to stepwise\n",
    "stepwise_fit.summary()"
   ]
  },
  {
   "cell_type": "code",
   "execution_count": 17,
   "id": "46d25454",
   "metadata": {},
   "outputs": [
    {
     "data": {
      "text/plain": [
       "(138, 2)"
      ]
     },
     "execution_count": 17,
     "metadata": {},
     "output_type": "execute_result"
    }
   ],
   "source": [
    "#Tamanho da Base\n",
    "df.shape"
   ]
  },
  {
   "cell_type": "code",
   "execution_count": 18,
   "id": "acdc505d",
   "metadata": {},
   "outputs": [],
   "source": [
    "#Separa a base em treino e teste\n",
    "train = df.iloc[:len(df)-12]\n",
    "test = df.iloc[len(df)-12:] # Deixa 12 meses para teste"
   ]
  },
  {
   "cell_type": "code",
   "execution_count": 19,
   "id": "d933cf3b",
   "metadata": {},
   "outputs": [
    {
     "data": {
      "text/html": [
       "<table class=\"simpletable\">\n",
       "<caption>SARIMAX Results</caption>\n",
       "<tr>\n",
       "  <th>Dep. Variable:</th>               <td>Acessos</td>            <th>  No. Observations:  </th>    <td>126</td>   \n",
       "</tr>\n",
       "<tr>\n",
       "  <th>Model:</th>           <td>SARIMAX(0, 1, 0)x(0, 1, 0, 12)</td> <th>  Log Likelihood     </th> <td>-1534.556</td>\n",
       "</tr>\n",
       "<tr>\n",
       "  <th>Date:</th>                   <td>Wed, 28 Sep 2022</td>        <th>  AIC                </th> <td>3071.112</td> \n",
       "</tr>\n",
       "<tr>\n",
       "  <th>Time:</th>                       <td>10:54:29</td>            <th>  BIC                </th> <td>3073.839</td> \n",
       "</tr>\n",
       "<tr>\n",
       "  <th>Sample:</th>                    <td>02-01-2011</td>           <th>  HQIC               </th> <td>3072.218</td> \n",
       "</tr>\n",
       "<tr>\n",
       "  <th></th>                          <td>- 07-01-2021</td>          <th>                     </th>     <td> </td>    \n",
       "</tr>\n",
       "<tr>\n",
       "  <th>Covariance Type:</th>               <td>opg</td>              <th>                     </th>     <td> </td>    \n",
       "</tr>\n",
       "</table>\n",
       "<table class=\"simpletable\">\n",
       "<tr>\n",
       "     <td></td>       <th>coef</th>     <th>std err</th>      <th>z</th>      <th>P>|z|</th>  <th>[0.025</th>    <th>0.975]</th>  \n",
       "</tr>\n",
       "<tr>\n",
       "  <th>sigma2</th> <td> 3.259e+10</td> <td>  1.8e+09</td> <td>   18.065</td> <td> 0.000</td> <td> 2.91e+10</td> <td> 3.61e+10</td>\n",
       "</tr>\n",
       "</table>\n",
       "<table class=\"simpletable\">\n",
       "<tr>\n",
       "  <th>Ljung-Box (L1) (Q):</th>     <td>0.74</td> <th>  Jarque-Bera (JB):  </th> <td>249.96</td>\n",
       "</tr>\n",
       "<tr>\n",
       "  <th>Prob(Q):</th>                <td>0.39</td> <th>  Prob(JB):          </th>  <td>0.00</td> \n",
       "</tr>\n",
       "<tr>\n",
       "  <th>Heteroskedasticity (H):</th> <td>9.40</td> <th>  Skew:              </th>  <td>0.91</td> \n",
       "</tr>\n",
       "<tr>\n",
       "  <th>Prob(H) (two-sided):</th>    <td>0.00</td> <th>  Kurtosis:          </th>  <td>10.06</td>\n",
       "</tr>\n",
       "</table><br/><br/>Warnings:<br/>[1] Covariance matrix calculated using the outer product of gradients (complex-step)."
      ],
      "text/plain": [
       "<class 'statsmodels.iolib.summary.Summary'>\n",
       "\"\"\"\n",
       "                                     SARIMAX Results                                      \n",
       "==========================================================================================\n",
       "Dep. Variable:                            Acessos   No. Observations:                  126\n",
       "Model:             SARIMAX(0, 1, 0)x(0, 1, 0, 12)   Log Likelihood               -1534.556\n",
       "Date:                            Wed, 28 Sep 2022   AIC                           3071.112\n",
       "Time:                                    10:54:29   BIC                           3073.839\n",
       "Sample:                                02-01-2011   HQIC                          3072.218\n",
       "                                     - 07-01-2021                                         \n",
       "Covariance Type:                              opg                                         \n",
       "==============================================================================\n",
       "                 coef    std err          z      P>|z|      [0.025      0.975]\n",
       "------------------------------------------------------------------------------\n",
       "sigma2      3.259e+10    1.8e+09     18.065      0.000    2.91e+10    3.61e+10\n",
       "===================================================================================\n",
       "Ljung-Box (L1) (Q):                   0.74   Jarque-Bera (JB):               249.96\n",
       "Prob(Q):                              0.39   Prob(JB):                         0.00\n",
       "Heteroskedasticity (H):               9.40   Skew:                             0.91\n",
       "Prob(H) (two-sided):                  0.00   Kurtosis:                        10.06\n",
       "===================================================================================\n",
       "\n",
       "Warnings:\n",
       "[1] Covariance matrix calculated using the outer product of gradients (complex-step).\n",
       "\"\"\""
      ]
     },
     "execution_count": 19,
     "metadata": {},
     "output_type": "execute_result"
    }
   ],
   "source": [
    "#Ajusta um modelo SARIMAX(0, 1, 0)x(0, 1, 0, 12) na base de treinamento\n",
    "model = SARIMAX(train['Acessos'], \n",
    "                order = (0, 1, 0), \n",
    "                seasonal_order =(0, 1, 0, 12))\n",
    "result = model.fit()\n",
    "result.summary()"
   ]
  },
  {
   "cell_type": "code",
   "execution_count": 20,
   "id": "fa96584c",
   "metadata": {},
   "outputs": [
    {
     "data": {
      "text/plain": [
       "<AxesSubplot:xlabel='Data'>"
      ]
     },
     "execution_count": 20,
     "metadata": {},
     "output_type": "execute_result"
    },
    {
     "data": {
      "image/png": "[encoded data removed]",
      "text/plain": [
       "<Figure size 432x288 with 1 Axes>"
      ]
     },
     "metadata": {
      "needs_background": "light"
     },
     "output_type": "display_data"
    }
   ],
   "source": [
    "#Predição do modelo ARIMA na base de teste\n",
    "start = len(train)\n",
    "end = len(train) + len(test) - 1\n",
    "predictions = result.predict(start, end,\n",
    "                             typ = 'levels').rename(\"Predictions\")\n",
    "predictions.plot(legend = True)\n",
    "test['Acessos'].plot(legend = True)"
   ]
  },
  {
   "cell_type": "code",
   "execution_count": 21,
   "id": "4c7800e9",
   "metadata": {},
   "outputs": [
    {
     "data": {
      "text/plain": [
       "1213500.28"
      ]
     },
     "execution_count": 21,
     "metadata": {},
     "output_type": "execute_result"
    }
   ],
   "source": [
    "#Cálculo da acurácia das previsões (raiz do erro medio quadratico)\n",
    "rmse(test[\"Acessos\"], predictions).round(2)"
   ]
  },
  {
   "cell_type": "code",
   "execution_count": 22,
   "id": "5b576ebd",
   "metadata": {},
   "outputs": [],
   "source": [
    "from sklearn import metrics\n",
    "from sklearn.metrics import mean_absolute_percentage_error"
   ]
  },
  {
   "cell_type": "code",
   "execution_count": 23,
   "id": "60feb6ae",
   "metadata": {},
   "outputs": [
    {
     "name": "stdout",
     "output_type": "stream",
     "text": [
      "2.0\n"
     ]
    }
   ],
   "source": [
    "print((metrics.mean_absolute_percentage_error(test[\"Acessos\"], predictions)*100).round(2))"
   ]
  },
  {
   "cell_type": "code",
   "execution_count": 24,
   "id": "ae7db563",
   "metadata": {},
   "outputs": [
    {
     "name": "stdout",
     "output_type": "stream",
     "text": [
      "1.9965728897894077\n"
     ]
    }
   ],
   "source": [
    "print(metrics.mean_absolute_percentage_error(test[\"Acessos\"], predictions)*100)"
   ]
  },
  {
   "cell_type": "markdown",
   "id": "05efa418",
   "metadata": {},
   "source": [
    "#### Escolha automática de parâmetros por meio do auto-arima"
   ]
  },
  {
   "cell_type": "code",
   "execution_count": 26,
   "id": "11d7e834",
   "metadata": {},
   "outputs": [
    {
     "data": {
      "text/html": [
       "<div>\n",
       "<style scoped>\n",
       "    .dataframe tbody tr th:only-of-type {\n",
       "        vertical-align: middle;\n",
       "    }\n",
       "\n",
       "    .dataframe tbody tr th {\n",
       "        vertical-align: top;\n",
       "    }\n",
       "\n",
       "    .dataframe thead th {\n",
       "        text-align: right;\n",
       "    }\n",
       "</style>\n",
       "<table border=\"1\" class=\"dataframe\">\n",
       "  <thead>\n",
       "    <tr style=\"text-align: right;\">\n",
       "      <th></th>\n",
       "      <th>Acessos</th>\n",
       "    </tr>\n",
       "    <tr>\n",
       "      <th>Data</th>\n",
       "      <th></th>\n",
       "    </tr>\n",
       "  </thead>\n",
       "  <tbody>\n",
       "    <tr>\n",
       "      <th>2011-01-01</th>\n",
       "      <td>14508818</td>\n",
       "    </tr>\n",
       "    <tr>\n",
       "      <th>2011-02-01</th>\n",
       "      <td>14764348</td>\n",
       "    </tr>\n",
       "    <tr>\n",
       "      <th>2011-03-01</th>\n",
       "      <td>15058564</td>\n",
       "    </tr>\n",
       "    <tr>\n",
       "      <th>2011-04-01</th>\n",
       "      <td>15260984</td>\n",
       "    </tr>\n",
       "    <tr>\n",
       "      <th>2011-05-01</th>\n",
       "      <td>15486330</td>\n",
       "    </tr>\n",
       "  </tbody>\n",
       "</table>\n",
       "</div>"
      ],
      "text/plain": [
       "             Acessos\n",
       "Data                \n",
       "2011-01-01  14508818\n",
       "2011-02-01  14764348\n",
       "2011-03-01  15058564\n",
       "2011-04-01  15260984\n",
       "2011-05-01  15486330"
      ]
     },
     "execution_count": 26,
     "metadata": {},
     "output_type": "execute_result"
    }
   ],
   "source": [
    "# Importando a base de Acessos e colocando o campo 'Data' como o index\n",
    "df = pd.read_csv('Acessos_Banda_Larga_Fixa_Total_2011_2022.csv',index_col='Data',parse_dates=True)\n",
    "df.index.freq = 'MS'\n",
    "df.head(5)"
   ]
  },
  {
   "cell_type": "code",
   "execution_count": 27,
   "id": "6590ffe6",
   "metadata": {},
   "outputs": [
    {
     "data": {
      "text/plain": [
       "<AxesSubplot:xlabel='Data'>"
      ]
     },
     "execution_count": 27,
     "metadata": {},
     "output_type": "execute_result"
    },
    {
     "data": {
      "image/png": "[encoded data removed]",
      "text/plain": [
       "<Figure size 432x288 with 1 Axes>"
      ]
     },
     "metadata": {
      "needs_background": "light"
     },
     "output_type": "display_data"
    }
   ],
   "source": [
    "#Visualizando os dados\n",
    "df.plot()"
   ]
  },
  {
   "cell_type": "code",
   "execution_count": 28,
   "id": "3af54de1",
   "metadata": {},
   "outputs": [
    {
     "data": {
      "text/plain": [
       "(0.8016030050619128,\n",
       " 0.9916619995144154,\n",
       " 3,\n",
       " 135,\n",
       " {'1%': -3.479742586699182,\n",
       "  '5%': -2.88319822181578,\n",
       "  '10%': -2.578319684499314},\n",
       " 3353.6436643188135)"
      ]
     },
     "execution_count": 28,
     "metadata": {},
     "output_type": "execute_result"
    }
   ],
   "source": [
    "#Teste de estacionariedade da série\n",
    "adfuller(df)"
   ]
  },
  {
   "cell_type": "code",
   "execution_count": 30,
   "id": "7d606c35",
   "metadata": {},
   "outputs": [
    {
     "data": {
      "text/plain": [
       "[<matplotlib.lines.Line2D at 0x136df765df0>]"
      ]
     },
     "execution_count": 30,
     "metadata": {},
     "output_type": "execute_result"
    },
    {
     "data": {
      "image/png": "[encoded data removed]",
      "text/plain": [
       "<Figure size 432x288 with 1 Axes>"
      ]
     },
     "metadata": {
      "needs_background": "light"
     },
     "output_type": "display_data"
    }
   ],
   "source": [
    "#Separação da base em treino e teste\n",
    "#Deixa só 12 meses para teste para no treino pegar mais período da covid.\n",
    "\n",
    "train = df.iloc[:len(df)-12]\n",
    "test = df.iloc[len(df)-12:] # Deixa 12 meses para teste\n",
    "\n",
    "plt.plot(train)\n",
    "plt.plot(test)"
   ]
  },
  {
   "cell_type": "code",
   "execution_count": 31,
   "id": "709a1002",
   "metadata": {},
   "outputs": [
    {
     "name": "stdout",
     "output_type": "stream",
     "text": [
      "Performing stepwise search to minimize aic\n",
      " ARIMA(0,1,0)(0,1,5)[12]             : AIC=3104.445, Time=2.78 sec\n",
      " ARIMA(0,1,0)(0,1,0)[12]             : AIC=3097.523, Time=0.03 sec\n",
      " ARIMA(1,1,0)(1,1,0)[12]             : AIC=3100.176, Time=0.16 sec\n",
      " ARIMA(0,1,1)(0,1,1)[12]             : AIC=3100.212, Time=0.22 sec\n",
      " ARIMA(0,1,0)(1,1,0)[12]             : AIC=3101.375, Time=0.09 sec\n",
      " ARIMA(0,1,0)(0,1,1)[12]             : AIC=3100.117, Time=0.15 sec\n",
      " ARIMA(0,1,0)(1,1,1)[12]             : AIC=3100.331, Time=0.13 sec\n",
      " ARIMA(1,1,0)(0,1,0)[12]             : AIC=3098.662, Time=0.06 sec\n",
      " ARIMA(0,1,1)(0,1,0)[12]             : AIC=3098.692, Time=0.06 sec\n",
      " ARIMA(1,1,1)(0,1,0)[12]             : AIC=3093.685, Time=0.43 sec\n",
      " ARIMA(1,1,1)(1,1,0)[12]             : AIC=3094.922, Time=0.86 sec\n",
      " ARIMA(1,1,1)(0,1,1)[12]             : AIC=3094.915, Time=0.91 sec\n",
      " ARIMA(1,1,1)(1,1,1)[12]             : AIC=3104.085, Time=0.29 sec\n",
      " ARIMA(2,1,1)(0,1,0)[12]             : AIC=3105.632, Time=0.10 sec\n",
      " ARIMA(1,1,2)(0,1,0)[12]             : AIC=3103.620, Time=0.09 sec\n",
      " ARIMA(0,1,2)(0,1,0)[12]             : AIC=3100.742, Time=0.09 sec\n",
      " ARIMA(2,1,0)(0,1,0)[12]             : AIC=3102.972, Time=0.08 sec\n",
      " ARIMA(2,1,2)(0,1,0)[12]             : AIC=inf, Time=0.51 sec\n",
      " ARIMA(1,1,1)(0,1,0)[12] intercept   : AIC=3100.922, Time=0.27 sec\n",
      "\n",
      "Best model:  ARIMA(1,1,1)(0,1,0)[12]          \n",
      "Total fit time: 7.327 seconds\n"
     ]
    }
   ],
   "source": [
    "#Especificação do modelo ARIMA\n",
    "arima_model=auto_arima(train, start_p=0, d=1, start_q=0, \n",
    "                      max_p=5, max_d=5, max_q=5, start_P=0,\n",
    "                      D=1, start_Q=5, max_P=5, max_D=5, max_Q=5, \n",
    "                      m=12, seasonal=True, error_action=\"warn\",\n",
    "                      trace=True, suppress_warnings=True, stepwise=True,\n",
    "                      random_state=20, n_fits=50)"
   ]
  },
  {
   "cell_type": "code",
   "execution_count": 32,
   "id": "7d447e7d",
   "metadata": {},
   "outputs": [
    {
     "data": {
      "text/html": [
       "<table class=\"simpletable\">\n",
       "<caption>SARIMAX Results</caption>\n",
       "<tr>\n",
       "  <th>Dep. Variable:</th>                  <td>y</td>                <th>  No. Observations:  </th>    <td>127</td>   \n",
       "</tr>\n",
       "<tr>\n",
       "  <th>Model:</th>           <td>SARIMAX(1, 1, 1)x(0, 1, [], 12)</td> <th>  Log Likelihood     </th> <td>-1543.843</td>\n",
       "</tr>\n",
       "<tr>\n",
       "  <th>Date:</th>                   <td>Wed, 28 Sep 2022</td>         <th>  AIC                </th> <td>3093.685</td> \n",
       "</tr>\n",
       "<tr>\n",
       "  <th>Time:</th>                       <td>10:56:04</td>             <th>  BIC                </th> <td>3101.894</td> \n",
       "</tr>\n",
       "<tr>\n",
       "  <th>Sample:</th>                    <td>01-01-2011</td>            <th>  HQIC               </th> <td>3097.017</td> \n",
       "</tr>\n",
       "<tr>\n",
       "  <th></th>                          <td>- 07-01-2021</td>           <th>                     </th>     <td> </td>    \n",
       "</tr>\n",
       "<tr>\n",
       "  <th>Covariance Type:</th>               <td>opg</td>               <th>                     </th>     <td> </td>    \n",
       "</tr>\n",
       "</table>\n",
       "<table class=\"simpletable\">\n",
       "<tr>\n",
       "     <td></td>       <th>coef</th>     <th>std err</th>      <th>z</th>      <th>P>|z|</th>  <th>[0.025</th>    <th>0.975]</th>  \n",
       "</tr>\n",
       "<tr>\n",
       "  <th>ar.L1</th>  <td>    1.0000</td> <td>    0.013</td> <td>   77.267</td> <td> 0.000</td> <td>    0.975</td> <td>    1.025</td>\n",
       "</tr>\n",
       "<tr>\n",
       "  <th>ma.L1</th>  <td>   -0.9465</td> <td>    0.014</td> <td>  -66.850</td> <td> 0.000</td> <td>   -0.974</td> <td>   -0.919</td>\n",
       "</tr>\n",
       "<tr>\n",
       "  <th>sigma2</th> <td> 3.675e+10</td> <td> 3.93e-14</td> <td> 9.35e+23</td> <td> 0.000</td> <td> 3.67e+10</td> <td> 3.67e+10</td>\n",
       "</tr>\n",
       "</table>\n",
       "<table class=\"simpletable\">\n",
       "<tr>\n",
       "  <th>Ljung-Box (L1) (Q):</th>     <td>5.67</td> <th>  Jarque-Bera (JB):  </th> <td>261.54</td>\n",
       "</tr>\n",
       "<tr>\n",
       "  <th>Prob(Q):</th>                <td>0.02</td> <th>  Prob(JB):          </th>  <td>0.00</td> \n",
       "</tr>\n",
       "<tr>\n",
       "  <th>Heteroskedasticity (H):</th> <td>8.76</td> <th>  Skew:              </th>  <td>0.60</td> \n",
       "</tr>\n",
       "<tr>\n",
       "  <th>Prob(H) (two-sided):</th>    <td>0.00</td> <th>  Kurtosis:          </th>  <td>10.32</td>\n",
       "</tr>\n",
       "</table><br/><br/>Warnings:<br/>[1] Covariance matrix calculated using the outer product of gradients (complex-step).<br/>[2] Covariance matrix is singular or near-singular, with condition number 2.84e+39. Standard errors may be unstable."
      ],
      "text/plain": [
       "<class 'statsmodels.iolib.summary.Summary'>\n",
       "\"\"\"\n",
       "                                      SARIMAX Results                                      \n",
       "===========================================================================================\n",
       "Dep. Variable:                                   y   No. Observations:                  127\n",
       "Model:             SARIMAX(1, 1, 1)x(0, 1, [], 12)   Log Likelihood               -1543.843\n",
       "Date:                             Wed, 28 Sep 2022   AIC                           3093.685\n",
       "Time:                                     10:56:04   BIC                           3101.894\n",
       "Sample:                                 01-01-2011   HQIC                          3097.017\n",
       "                                      - 07-01-2021                                         \n",
       "Covariance Type:                               opg                                         \n",
       "==============================================================================\n",
       "                 coef    std err          z      P>|z|      [0.025      0.975]\n",
       "------------------------------------------------------------------------------\n",
       "ar.L1          1.0000      0.013     77.267      0.000       0.975       1.025\n",
       "ma.L1         -0.9465      0.014    -66.850      0.000      -0.974      -0.919\n",
       "sigma2      3.675e+10   3.93e-14   9.35e+23      0.000    3.67e+10    3.67e+10\n",
       "===================================================================================\n",
       "Ljung-Box (L1) (Q):                   5.67   Jarque-Bera (JB):               261.54\n",
       "Prob(Q):                              0.02   Prob(JB):                         0.00\n",
       "Heteroskedasticity (H):               8.76   Skew:                             0.60\n",
       "Prob(H) (two-sided):                  0.00   Kurtosis:                        10.32\n",
       "===================================================================================\n",
       "\n",
       "Warnings:\n",
       "[1] Covariance matrix calculated using the outer product of gradients (complex-step).\n",
       "[2] Covariance matrix is singular or near-singular, with condition number 2.84e+39. Standard errors may be unstable.\n",
       "\"\"\""
      ]
     },
     "execution_count": 32,
     "metadata": {},
     "output_type": "execute_result"
    }
   ],
   "source": [
    "#Resumo do modelo\n",
    "arima_model.summary()"
   ]
  },
  {
   "cell_type": "code",
   "execution_count": 33,
   "id": "6d2783d9",
   "metadata": {},
   "outputs": [
    {
     "data": {
      "text/html": [
       "<div>\n",
       "<style scoped>\n",
       "    .dataframe tbody tr th:only-of-type {\n",
       "        vertical-align: middle;\n",
       "    }\n",
       "\n",
       "    .dataframe tbody tr th {\n",
       "        vertical-align: top;\n",
       "    }\n",
       "\n",
       "    .dataframe thead th {\n",
       "        text-align: right;\n",
       "    }\n",
       "</style>\n",
       "<table border=\"1\" class=\"dataframe\">\n",
       "  <thead>\n",
       "    <tr style=\"text-align: right;\">\n",
       "      <th></th>\n",
       "      <th>predicted_acessos</th>\n",
       "    </tr>\n",
       "    <tr>\n",
       "      <th>Data</th>\n",
       "      <th></th>\n",
       "    </tr>\n",
       "  </thead>\n",
       "  <tbody>\n",
       "    <tr>\n",
       "      <th>2021-08-01</th>\n",
       "      <td>4.050924e+07</td>\n",
       "    </tr>\n",
       "    <tr>\n",
       "      <th>2021-09-01</th>\n",
       "      <td>4.123860e+07</td>\n",
       "    </tr>\n",
       "    <tr>\n",
       "      <th>2021-10-01</th>\n",
       "      <td>4.157068e+07</td>\n",
       "    </tr>\n",
       "    <tr>\n",
       "      <th>2021-11-01</th>\n",
       "      <td>4.207744e+07</td>\n",
       "    </tr>\n",
       "    <tr>\n",
       "      <th>2021-12-01</th>\n",
       "      <td>4.233788e+07</td>\n",
       "    </tr>\n",
       "    <tr>\n",
       "      <th>2022-01-01</th>\n",
       "      <td>4.283131e+07</td>\n",
       "    </tr>\n",
       "    <tr>\n",
       "      <th>2022-02-01</th>\n",
       "      <td>4.343495e+07</td>\n",
       "    </tr>\n",
       "    <tr>\n",
       "      <th>2022-03-01</th>\n",
       "      <td>4.412876e+07</td>\n",
       "    </tr>\n",
       "    <tr>\n",
       "      <th>2022-04-01</th>\n",
       "      <td>4.481840e+07</td>\n",
       "    </tr>\n",
       "    <tr>\n",
       "      <th>2022-05-01</th>\n",
       "      <td>4.569722e+07</td>\n",
       "    </tr>\n",
       "    <tr>\n",
       "      <th>2022-06-01</th>\n",
       "      <td>4.613552e+07</td>\n",
       "    </tr>\n",
       "    <tr>\n",
       "      <th>2022-07-01</th>\n",
       "      <td>4.696322e+07</td>\n",
       "    </tr>\n",
       "  </tbody>\n",
       "</table>\n",
       "</div>"
      ],
      "text/plain": [
       "            predicted_acessos\n",
       "Data                         \n",
       "2021-08-01       4.050924e+07\n",
       "2021-09-01       4.123860e+07\n",
       "2021-10-01       4.157068e+07\n",
       "2021-11-01       4.207744e+07\n",
       "2021-12-01       4.233788e+07\n",
       "2022-01-01       4.283131e+07\n",
       "2022-02-01       4.343495e+07\n",
       "2022-03-01       4.412876e+07\n",
       "2022-04-01       4.481840e+07\n",
       "2022-05-01       4.569722e+07\n",
       "2022-06-01       4.613552e+07\n",
       "2022-07-01       4.696322e+07"
      ]
     },
     "execution_count": 33,
     "metadata": {},
     "output_type": "execute_result"
    }
   ],
   "source": [
    "#Prevendo valores na base de teste\n",
    "prediction=pd.DataFrame(arima_model.predict(n_periods=12), index=test.index)\n",
    "prediction.columns = ['predicted_acessos']\n",
    "prediction"
   ]
  },
  {
   "cell_type": "code",
   "execution_count": 34,
   "id": "dd5f4b34",
   "metadata": {},
   "outputs": [
    {
     "data": {
      "image/png": "[encoded data removed]",
      "text/plain": [
       "<Figure size 576x360 with 1 Axes>"
      ]
     },
     "metadata": {
      "needs_background": "light"
     },
     "output_type": "display_data"
    }
   ],
   "source": [
    "#Visualização das previsões\n",
    "plt.figure(figsize=(8,5))\n",
    "plt.plot(train, label=\"Treino\")\n",
    "plt.plot(test, label=\"Teste\")\n",
    "plt.plot(prediction, label=\"Previsão\")\n",
    "plt.legend(loc=\"upper left\")\n",
    "plt.show()"
   ]
  },
  {
   "cell_type": "code",
   "execution_count": 35,
   "id": "8c7d451e",
   "metadata": {},
   "outputs": [
    {
     "data": {
      "text/plain": [
       "2134004.26"
      ]
     },
     "execution_count": 35,
     "metadata": {},
     "output_type": "execute_result"
    }
   ],
   "source": [
    "#Cálculo da acurácia das previsões (raiz do erro medio quadratico)\n",
    "rmse(test[\"Acessos\"], prediction[\"predicted_acessos\"]).round(2)"
   ]
  },
  {
   "cell_type": "code",
   "execution_count": 36,
   "id": "0adfb424",
   "metadata": {},
   "outputs": [
    {
     "name": "stdout",
     "output_type": "stream",
     "text": [
      "4.01\n"
     ]
    }
   ],
   "source": [
    "print((metrics.mean_absolute_percentage_error(test[\"Acessos\"], prediction[\"predicted_acessos\"])*100).round(2))"
   ]
  },
  {
   "cell_type": "code",
   "execution_count": 34,
   "id": "73052f81",
   "metadata": {},
   "outputs": [],
   "source": [
    "# Resultados Alcançados\n",
    "\n",
    "# Ajuste Manual com Sarimax\n",
    "# train = df.iloc[:len(df)-12]   91%\n",
    "# test = df.iloc[len(df)-12:]     9%\n",
    "# n_periods=12 \n",
    "# acurácia = 1213500.2779354854  3% de erro\n",
    "\n",
    "# Auto-Arima\n",
    "# train = df.iloc[:len(df)-12]   91%\n",
    "# test = df.iloc[len(df)-12:]     9%\n",
    "# n_periods=12 \n",
    "# acurácia = 2134011.8756925566  5% de erro\n",
    "\n",
    "# Auto-Arima\n",
    "# train=df[:110] 80%\n",
    "# test=df[-29:]  20%\n",
    "# n_periods=29 \n",
    "# acurácia = 3841679.646264531  9% de erro"
   ]
  }
 ],
 "metadata": {
  "kernelspec": {
   "display_name": "Python 3 (ipykernel)",
   "language": "python",
   "name": "python3"
  },
  "language_info": {
   "codemirror_mode": {
    "name": "ipython",
    "version": 3
   },
   "file_extension": ".py",
   "mimetype": "text/x-python",
   "name": "python",
   "nbconvert_exporter": "python",
   "pygments_lexer": "ipython3",
   "version": "3.9.12"
  }
 },
 "nbformat": 4,
 "nbformat_minor": 5
}
